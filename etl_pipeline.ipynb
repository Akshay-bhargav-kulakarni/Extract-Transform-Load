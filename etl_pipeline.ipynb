{
 "cells": [
  {
   "cell_type": "code",
   "execution_count": null,
   "id": "dd225cc3",
   "metadata": {},
   "outputs": [],
   "source": [
    "\n",
    "import pandas as pd\n",
    "import numpy as np\n",
    "import requests\n",
    "from sqlalchemy import create_engine\n",
    "    "
   ]
  },
  {
   "cell_type": "code",
   "execution_count": null,
   "id": "8dffcd14",
   "metadata": {},
   "outputs": [],
   "source": [
    "\n",
    "# Step 1: Extract (Load data from different sources)\n",
    "\n",
    "# Extracting from CSV\n",
    "df_csv = pd.read_csv('sales_data.csv')\n",
    "\n",
    "# Extracting from API (Simulated response)\n",
    "response = requests.get(\"https://api.example.com/data\")\n",
    "df_api = pd.DataFrame(response.json())\n",
    "\n",
    "# Extracting from SQL Database\n",
    "engine = create_engine('sqlite:///database.db')\n",
    "df_sql = pd.read_sql(\"SELECT * FROM sales_table\", engine)\n",
    "\n",
    "# Combine all data sources\n",
    "df = pd.concat([df_csv, df_api, df_sql], ignore_index=True)\n",
    "    "
   ]
  },
  {
   "cell_type": "code",
   "execution_count": null,
   "id": "96a23d87",
   "metadata": {},
   "outputs": [],
   "source": [
    "\n",
    "# Step 2: Transform (Clean and Process Data)\n",
    "\n",
    "# Handle Missing Values\n",
    "df.fillna(df.mean(numeric_only=True), inplace=True)  # Fill missing numerical values with mean\n",
    "df.fillna(df.mode().iloc[0], inplace=True)  # Fill missing categorical values with mode\n",
    "\n",
    "# Remove Duplicates\n",
    "df.drop_duplicates(inplace=True)\n",
    "\n",
    "# Standardize Date Format\n",
    "df['date'] = pd.to_datetime(df['date'])\n",
    "\n",
    "# Normalize numerical data\n",
    "from sklearn.preprocessing import MinMaxScaler\n",
    "scaler = MinMaxScaler()\n",
    "df[['sales_amount']] = scaler.fit_transform(df[['sales_amount']])\n",
    "\n",
    "# One-Hot Encoding for Categorical Variables\n",
    "df = pd.get_dummies(df, columns=['category'])\n",
    "    "
   ]
  },
  {
   "cell_type": "code",
   "execution_count": null,
   "id": "779cb122",
   "metadata": {},
   "outputs": [],
   "source": [
    "\n",
    "# Step 3: Load (Save cleaned data to a database)\n",
    "engine = create_engine('sqlite:///cleaned_data.db')\n",
    "df.to_sql('cleaned_sales_data', engine, index=False, if_exists='replace')\n",
    "\n",
    "print(\"ETL Process Completed Successfully!\")\n",
    "    "
   ]
  }
 ],
 "metadata": {},
 "nbformat": 4,
 "nbformat_minor": 5
}
